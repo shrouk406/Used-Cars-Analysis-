{
  "cells": [
    {
      "cell_type": "code",
      "execution_count": null,
      "id": "1aae9029",
      "metadata": {
        "id": "1aae9029"
      },
      "outputs": [],
      "source": [
        "import numpy as np\n",
        "import pandas as pd\n",
        "import plotly.express as px\n",
        "import matplotlib.pyplot as plt\n",
        "import seaborn as sns"
      ]
    },
    {
      "cell_type": "code",
      "execution_count": null,
      "id": "e0b00170",
      "metadata": {},
      "outputs": [],
      "source": [
        "import requests\n",
        "import io\n",
        "\n",
        "url = \"https://drive.google.com/uc?export=download&id=1CEhGMmpIb0ESL9cK_RS4Q3fhXTKVjpBF\"\n",
        "\n",
        "response = requests.get(url)\n",
        "if response.status_code == 200:\n",
        "    df = pd.read_csv(io.BytesIO(response.content))\n",
        "    print(\"✅ File loaded successfully!\")\n",
        "    print(df.head())\n",
        "else:\n",
        "    print(f\"❌ Error downloading file: {response.status_code}\")\n"
      ]
    },
    {
      "cell_type": "code",
      "execution_count": null,
      "id": "ed0c3f0d",
      "metadata": {
        "id": "ed0c3f0d"
      },
      "outputs": [],
      "source": [
        "\n",
        "df.head(2)"
      ]
    },
    {
      "cell_type": "code",
      "execution_count": null,
      "id": "f6f955cb",
      "metadata": {
        "id": "f6f955cb"
      },
      "outputs": [],
      "source": [
        "df.drop('Unnamed: 0', axis= 1, inplace = True)"
      ]
    },
    {
      "cell_type": "code",
      "execution_count": null,
      "id": "988b9072",
      "metadata": {
        "colab": {
          "base_uri": "https://localhost:8080/",
          "height": 411
        },
        "id": "988b9072",
        "outputId": "64437c3f-76d9-4e75-d3fc-711083e3c2a4"
      },
      "outputs": [],
      "source": [
        "df.head()"
      ]
    },
    {
      "cell_type": "code",
      "execution_count": null,
      "id": "06e16463",
      "metadata": {},
      "outputs": [],
      "source": [
        "df.shape"
      ]
    },
    {
      "cell_type": "code",
      "execution_count": null,
      "id": "272e4903",
      "metadata": {
        "colab": {
          "base_uri": "https://localhost:8080/",
          "height": 773
        },
        "id": "272e4903",
        "outputId": "cd6dc797-36c0-4c4b-8bea-ac06532cf664"
      },
      "outputs": [],
      "source": [
        "df.isna().sum()"
      ]
    },
    {
      "cell_type": "code",
      "execution_count": null,
      "id": "024adebb",
      "metadata": {
        "colab": {
          "base_uri": "https://localhost:8080/"
        },
        "id": "024adebb",
        "outputId": "11c43869-a56f-4054-e285-5edfe9e4ad27"
      },
      "outputs": [],
      "source": [
        "df.duplicated().sum()"
      ]
    },
    {
      "cell_type": "code",
      "execution_count": null,
      "id": "0867814b",
      "metadata": {
        "id": "0867814b"
      },
      "outputs": [],
      "source": [
        "df.drop_duplicates(inplace= True)"
      ]
    },
    {
      "cell_type": "markdown",
      "id": "fa6b39ce",
      "metadata": {
        "id": "fa6b39ce"
      },
      "source": [
        "#### Analysis Questions"
      ]
    },
    {
      "cell_type": "markdown",
      "id": "68633f87",
      "metadata": {
        "id": "68633f87"
      },
      "source": [
        "##### Uni Variate"
      ]
    },
    {
      "cell_type": "code",
      "execution_count": null,
      "id": "493f530a",
      "metadata": {
        "colab": {
          "base_uri": "https://localhost:8080/",
          "height": 437
        },
        "id": "493f530a",
        "outputId": "ea895e7a-a876-48da-9c13-9c89fc572173"
      },
      "outputs": [],
      "source": [
        "# What is the distribution of car prices?\n",
        "\n",
        "px.histogram(df, x = 'price', width= 900, height= 400)"
      ]
    },
    {
      "cell_type": "code",
      "execution_count": null,
      "id": "c3d1a803",
      "metadata": {
        "colab": {
          "base_uri": "https://localhost:8080/",
          "height": 437
        },
        "id": "c3d1a803",
        "outputId": "5d153137-d6e7-4b42-d33c-27ed4c552e4b"
      },
      "outputs": [],
      "source": [
        "# What are the most common car manufacturing years?\n",
        "\n",
        "px.histogram(data_frame= df, x= 'year', width= 900, height= 400)"
      ]
    },
    {
      "cell_type": "code",
      "execution_count": null,
      "id": "6564454e",
      "metadata": {
        "colab": {
          "base_uri": "https://localhost:8080/",
          "height": 542
        },
        "id": "6564454e",
        "outputId": "0a9b967f-ae62-4a1b-de15-22e6d901e336"
      },
      "outputs": [],
      "source": [
        "# What is the most frequent fuel type?\n",
        "\n",
        "px.pie(df, names = 'fuel')\n",
        "\n"
      ]
    },
    {
      "cell_type": "code",
      "execution_count": null,
      "id": "2k7yWtw2BXvM",
      "metadata": {
        "colab": {
          "base_uri": "https://localhost:8080/",
          "height": 542
        },
        "id": "2k7yWtw2BXvM",
        "outputId": "780e1d1c-768e-4d6c-f086-907e0d267e80"
      },
      "outputs": [],
      "source": [
        "# What are the most common car conditions listed?\n",
        "\n",
        "px.pie(df, names= 'condition', labels= {'condition': 'Car Condition'})"
      ]
    },
    {
      "cell_type": "code",
      "execution_count": null,
      "id": "iKeKZ_E4D__X",
      "metadata": {
        "colab": {
          "base_uri": "https://localhost:8080/",
          "height": 437
        },
        "id": "iKeKZ_E4D__X",
        "outputId": "ed777f0f-9ad8-4bad-bd4d-c59ca086c13f"
      },
      "outputs": [],
      "source": [
        "# What is the distribution of odometer readings (mileage)?\n",
        "\n",
        "px.histogram(df, x= 'odometer', width= 900, height= 400)"
      ]
    },
    {
      "cell_type": "code",
      "execution_count": null,
      "id": "-Fs7ZwvjERtO",
      "metadata": {
        "colab": {
          "base_uri": "https://localhost:8080/",
          "height": 542
        },
        "id": "-Fs7ZwvjERtO",
        "outputId": "0b3f5a68-6e4d-4a9b-85b1-59cd729e3109"
      },
      "outputs": [],
      "source": [
        "# Which transmission type appears most frequently?\n",
        "\n",
        "px.pie(df, names= 'transmission', labels= {'transmission': 'Transmission Type'})"
      ]
    },
    {
      "cell_type": "code",
      "execution_count": null,
      "id": "r7Gbyv16EXKQ",
      "metadata": {
        "colab": {
          "base_uri": "https://localhost:8080/",
          "height": 542
        },
        "id": "r7Gbyv16EXKQ",
        "outputId": "b00a94f2-575a-4023-c9e9-3ede2fba07b8"
      },
      "outputs": [],
      "source": [
        "# What are the most common vehicle sizes ?\n",
        "\n",
        "px.pie(df, names= 'size', labels= {'size': 'Vehicle Size'})"
      ]
    },
    {
      "cell_type": "markdown",
      "id": "S73rug-bEhp9",
      "metadata": {
        "id": "S73rug-bEhp9"
      },
      "source": [
        "##### Bi Variate"
      ]
    },
    {
      "cell_type": "code",
      "execution_count": null,
      "id": "N0vIyB31Eevk",
      "metadata": {
        "colab": {
          "base_uri": "https://localhost:8080/",
          "height": 437
        },
        "id": "N0vIyB31Eevk",
        "outputId": "a7ca4c9e-ef15-48a2-b5ed-c61380a0fc20"
      },
      "outputs": [],
      "source": [
        "#  Does the year of the car affect its price?\n",
        "\n",
        "px.scatter(df, x= 'year', y= 'price', width= 900, height= 400)"
      ]
    },
    {
      "cell_type": "code",
      "execution_count": null,
      "id": "BuIAdnoMEsW8",
      "metadata": {
        "colab": {
          "base_uri": "https://localhost:8080/",
          "height": 437
        },
        "id": "BuIAdnoMEsW8",
        "outputId": "ba9d6511-5456-4c9f-c941-ac6d3ac6e003"
      },
      "outputs": [],
      "source": [
        "# What is the relationship between car condition and price?\n",
        "\n",
        "px.box(df, x= 'condition', y= 'price', width= 900, height= 400)"
      ]
    },
    {
      "cell_type": "code",
      "execution_count": null,
      "id": "zXFz41fGFv2o",
      "metadata": {
        "colab": {
          "base_uri": "https://localhost:8080/",
          "height": 467
        },
        "id": "zXFz41fGFv2o",
        "outputId": "4a978e21-aea8-4cc8-da0b-6675044ed3c7"
      },
      "outputs": [],
      "source": [
        "sns.barplot(df, x= 'condition', y= 'price')"
      ]
    },
    {
      "cell_type": "code",
      "execution_count": null,
      "id": "5nChdve8GdWf",
      "metadata": {
        "colab": {
          "base_uri": "https://localhost:8080/"
        },
        "id": "5nChdve8GdWf",
        "outputId": "e55b4d73-586d-4ac0-8f84-6503d6bcea29"
      },
      "outputs": [],
      "source": [
        "# check data type of cylinders\n",
        "\n",
        "df['cylinders'].unique()"
      ]
    },
    {
      "cell_type": "code",
      "execution_count": null,
      "id": "lWXmdZCpF4Zb",
      "metadata": {
        "colab": {
          "base_uri": "https://localhost:8080/",
          "height": 507
        },
        "id": "lWXmdZCpF4Zb",
        "outputId": "8f01441b-0fb2-4abe-a941-ac5733dc8b12"
      },
      "outputs": [],
      "source": [
        "# Does the number of cylinders influence the price?\n",
        "\n",
        "sns.heatmap(df.corr(numeric_only= True), annot= True)\n",
        "\n"
      ]
    },
    {
      "cell_type": "code",
      "execution_count": null,
      "id": "QpuLv9MrGRVF",
      "metadata": {
        "colab": {
          "base_uri": "https://localhost:8080/",
          "height": 437
        },
        "id": "QpuLv9MrGRVF",
        "outputId": "e05f3b58-b2b3-43e6-90c6-267ff6b8a40c"
      },
      "outputs": [],
      "source": [
        "# How does odometer reading affect price?\n",
        "\n",
        "px.scatter(df, x= 'odometer', y= 'price', width= 900, height= 400)"
      ]
    },
    {
      "cell_type": "code",
      "execution_count": null,
      "id": "4cq1BfTNHGUA",
      "metadata": {
        "colab": {
          "base_uri": "https://localhost:8080/",
          "height": 437
        },
        "id": "4cq1BfTNHGUA",
        "outputId": "413d167e-afcd-4c8c-c8b4-66431713777b"
      },
      "outputs": [],
      "source": [
        "# Does drive type (e.g., FWD, RWD, AWD) influence price?\n",
        "\n",
        "px.box(df, x= 'drive', y= 'price', width= 900, height= 400)"
      ]
    },
    {
      "cell_type": "code",
      "execution_count": null,
      "id": "XGx3OtC_Hsew",
      "metadata": {
        "colab": {
          "base_uri": "https://localhost:8080/",
          "height": 437
        },
        "id": "XGx3OtC_Hsew",
        "outputId": "7c4d724c-d067-4ee0-d80f-c6bf52aa2d2e"
      },
      "outputs": [],
      "source": [
        "# Is there a price difference based on fuel type (gas, electric, hybrid)?\n",
        "\n",
        "px.box(df, x= 'fuel', y= 'price', width= 900, height= 400)"
      ]
    },
    {
      "cell_type": "code",
      "execution_count": null,
      "id": "b3N6GteXH5GS",
      "metadata": {
        "colab": {
          "base_uri": "https://localhost:8080/",
          "height": 437
        },
        "id": "b3N6GteXH5GS",
        "outputId": "467343a2-a88f-44af-83b4-7b38a788ed4a"
      },
      "outputs": [],
      "source": [
        "# What’s the price trend across different transmission types?\n",
        "\n",
        "px.box(df, x= 'transmission', y= 'price', width= 900, height= 400)"
      ]
    },
    {
      "cell_type": "code",
      "execution_count": null,
      "id": "irAcOxYQICPa",
      "metadata": {
        "colab": {
          "base_uri": "https://localhost:8080/",
          "height": 472
        },
        "id": "irAcOxYQICPa",
        "outputId": "a7fd5183-dd75-4809-80b6-4a2279e7c65f"
      },
      "outputs": [],
      "source": [
        "sns.barplot(df, x= 'transmission', y= 'price')"
      ]
    },
    {
      "cell_type": "markdown",
      "id": "37xgc0IXILLO",
      "metadata": {
        "id": "37xgc0IXILLO"
      },
      "source": [
        "##### Multi Variate"
      ]
    },
    {
      "cell_type": "code",
      "execution_count": null,
      "id": "RlwkLU0dJFyv",
      "metadata": {
        "colab": {
          "base_uri": "https://localhost:8080/",
          "height": 493
        },
        "id": "RlwkLU0dJFyv",
        "outputId": "9e1e2709-661b-4013-b005-112d92eaea3b"
      },
      "outputs": [],
      "source": [
        "corr_matrix = df.corr(numeric_only=True).drop('post_year')\n",
        "sns.heatmap(corr_matrix, annot=True, fmt=\".2f\", cmap='Blues', square=True, linewidths=0.5)\n",
        "plt.tight_layout()\n",
        "plt.show()"
      ]
    },
    {
      "cell_type": "code",
      "execution_count": 1,
      "id": "Uz9yeCwrKRCD",
      "metadata": {
        "colab": {
          "base_uri": "https://localhost:8080/"
        },
        "id": "Uz9yeCwrKRCD",
        "outputId": "09836b8f-fc71-4eca-9e2f-14d2797688c3"
      },
      "outputs": [
        {
          "name": "stdout",
          "output_type": "stream",
          "text": [
            "Overwriting app.py\n"
          ]
        }
      ],
      "source": [
        "%%writefile app.py\n",
        "\n",
        "import streamlit as st\n",
        "import plotly.express as px\n",
        "import pandas as pd\n",
        "import seaborn as sns\n",
        "import matplotlib.pyplot as plt\n",
        "import requests\n",
        "import io\n",
        "\n",
        "st.set_page_config(layout = 'wide', page_title = 'Used Cars EDA')\n",
        "\n",
        "url = \"https://drive.google.com/uc?export=download&id=1CEhGMmpIb0ESL9cK_RS4Q3fhXTKVjpBF\"\n",
        "\n",
        "response = requests.get(url)\n",
        "if response.status_code == 200:\n",
        "    df = pd.read_csv(io.BytesIO(response.content))\n",
        "    print(\"✅ File loaded successfully!\")\n",
        "    print(df.head())\n",
        "else:\n",
        "    print(f\"❌ Error downloading file: {response.status_code}\")\n",
        "\n",
        "page = st.sidebar.selectbox('GO To:', ['Data Overview', 'Univariate Analysis', 'Bivariate Analysis', 'Multivariate'])\n",
        "\n",
        "\n",
        "if page == 'Data Overview':\n",
        "    st.write('# Welcome To the Analysis of the Used Cars Dataset!')\n",
        "    \n",
        "    st.image('https://themanufacturer-cdn-1.s3.eu-west-2.amazonaws.com/wp-content/uploads/2018/02/14122735/With-enough-effort-a-used-car-can-be-almost-new-again.-Image-Public-Domain.-1024x713.jpg')\n",
        "\n",
        "    st.markdown(\"\"\"\n",
        "    ###  Dataset Overview\n",
        "\n",
        "    This dataset contains detailed listings of used cars posted for sale. It includes information such as vehicle year, price, mileage (odometer), fuel type, transmission, drive type, condition, and more. The data has been preprocessed to include both numerical and categorical variables, enabling meaningful analysis and visualizations. It is ideal for exploring trends in car pricing, understanding feature relationships, and building machine learning models for price prediction.\n",
        "    \"\"\")\n",
        "\n",
        "    st.dataframe(df.head())\n",
        "\n",
        "    st.write(\"Data Summary for numeric values:\")\n",
        "    st.write(df.describe(include = 'number').round(4))\n",
        "\n",
        "\n",
        "    st.write(\"Data Summary for categorical values:\")\n",
        "    st.write(df.describe(include = 'object'))\n",
        "\n",
        "\n",
        "    st.write(\"Top 5 Most Expensive Cars:\")\n",
        "    st.dataframe(df.sort_values(by='price', ascending=False).head(5))\n",
        "\n",
        "\n",
        "elif page == 'Univariate Analysis':\n",
        "    col = st.selectbox('Select Column', df.columns)\n",
        "    \n",
        "    chart = st.selectbox('Select Chart', ['Histogram', 'Box', 'Pie'])\n",
        "\n",
        "    if chart == 'Histogram':\n",
        "        st.plotly_chart(px.histogram(df, x = col, title= col))\n",
        "\n",
        "    elif chart == 'Box':\n",
        "        st.plotly_chart(px.box(data_frame= df, x= col, title= col))\n",
        "\n",
        "    elif chart == 'Pie':\n",
        "        st.plotly_chart(px.pie(data_frame= df, names= col, title= col))\n",
        "\n",
        "\n",
        "    st.write('# Some Analysis Questions to check!')\n",
        "    \n",
        "    st.header('Q1: What is the distribution of car prices?')  \n",
        "    st.plotly_chart(px.histogram(data_frame= df, x = 'price'))\n",
        "    st.write(\"depending on the chart: the prices vary from to almost 50k \")\n",
        "\n",
        "    st.header('Q2: What are the most common car manufacturing years')  \n",
        "    st.plotly_chart(px.histogram(data_frame= df, x = 'year'))\n",
        "    st.write(\"depending on the chart: the most common car manufacturing years 2013 - 2018\")\n",
        "\n",
        "    st.header('Q3: What is the most frequent fuel type?')  \n",
        "    st.plotly_chart(px.pie(df, names = 'fuel'))\n",
        "    st.write(\"depending on the chart: the most frequent fuel type is Gas\")\n",
        "\n",
        "    st.header('Q4: What are the most common car conditions listed?')  \n",
        "    st.plotly_chart(px.pie(df, names= 'condition', labels= {'condition': 'Car Condition'}))\n",
        "    st.write(\"depending on the chart: the most common car conditions age good then excellent\")\n",
        "\n",
        "    st.header('Q5: What is the distribution of odometer readings (mileage)?')  \n",
        "    st.plotly_chart(px.histogram(df, x= 'odometer', width= 900, height= 400))\n",
        "    st.write(\"depending on the chart: the odometers vary from 0 to 500k\")\n",
        "    st.write(\"The most are from 60k to almost 200k\")\n",
        "\n",
        "    st.header('Q6: Which transmission type appears most frequently?')  \n",
        "    st.plotly_chart(px.pie(df, names= 'transmission', labels= {'transmission': 'Transmission Type'}))\n",
        "    st.write(\"depending on the chart: the most frequent transmission is automatic\")\n",
        "\n",
        "    st.header('Q7: What are the most common vehicle sizes ?')  \n",
        "    st.plotly_chart(px.pie(df, names= 'size', labels= {'size': 'Vehicle Size'}))\n",
        "    st.write(\"depending on the chart: the most common vehicle size is the full size\")\n",
        "\n",
        "elif page == 'Bivariate Analysis':\n",
        "\n",
        "\n",
        "    col_1 = st.selectbox('Select the first Column', df.columns)\n",
        "    col_2 = st.selectbox('Select the second Column', df.columns)\n",
        "\n",
        "    chart = st.selectbox('Select Chart', ['Scatter', 'Box', 'Bar'])\n",
        "\n",
        "    if chart == 'Scatter':\n",
        "        st.plotly_chart(px.scatter(df, x = col_1, y = col_2))\n",
        "\n",
        "    elif chart == 'Box':\n",
        "        st.plotly_chart(px.box(df, x = col_1, y = col_2))\n",
        "\n",
        "    elif chart == 'Bar':\n",
        "        st.plotly_chart(px.bar(df, x = col_1, y = col_2))    \n",
        "\n",
        "\n",
        "    st.write('# Some Analysis Questions to check!')\n",
        "\n",
        "\n",
        "    st.header('Q1: Does the year of the car affect its price?')  \n",
        "    st.plotly_chart(px.scatter(df, x= 'year', y= 'price', width= 900, height= 400))\n",
        "    st.write('depending on the chart: the year isn\\'t affecting the price')\n",
        "#\n",
        "\n",
        "    st.header('Q2:  What is the relationship between car condition and price?')  \n",
        "    st.plotly_chart(px.box(df, x= 'condition', y= 'price', width= 900, height= 400))\n",
        "    sns.barplot(df, x= 'condition', y= 'price')\n",
        "    st.write('depending on the charts: when the condition is [New or Good], the price is higher')\n",
        "\n",
        " \n",
        "\n",
        "    st.header('Q3: How does odometer reading affect price?')  \n",
        "    st.plotly_chart(px.scatter(df, x= 'odometer', y= 'price', width= 900, height= 400))\n",
        "    st.write('depending on the chart: If The odometer reading is high, the car price is low, Makes sense!')\n",
        "\n",
        "\n",
        "    st.header('Q4: Does drive type (e.g., FWD, RWD, 4WD) influence price?')  \n",
        "    st.plotly_chart(px.box(df, x= 'drive', y= 'price', width= 900, height= 400))\n",
        "    st.write('depending on the chart: The 4WD drivers has the highest prices')\n",
        "\n",
        "\n",
        "    st.header('Q5: Is there a price difference based on fuel type (gas, electric, hybrid)?')  \n",
        "    st.plotly_chart(px.box(df, x= 'fuel', y= 'price', width= 900, height= 400))\n",
        "    st.write('depending on the chart: YES!, Diesel and Electric have the higher prices than others')\n",
        "\n",
        "\n",
        "elif page == 'Multivariate':\n",
        "    \n",
        "    st.header('Q1: Show The correlation between all columns with the car price')  \n",
        "    correlation = df.corr(numeric_only= True)\n",
        "    fig, ax = plt.subplots()\n",
        "    sns.heatmap(correlation, ax=ax)\n",
        "    st.pyplot(fig)"
      ]
    },
    {
      "cell_type": "code",
      "execution_count": null,
      "id": "02b9180d",
      "metadata": {},
      "outputs": [],
      "source": [
        "! streamlit run app.py\n"
      ]
    }
  ],
  "metadata": {
    "colab": {
      "provenance": []
    },
    "kernelspec": {
      "display_name": "machine_learning",
      "language": "python",
      "name": "python3"
    },
    "language_info": {
      "codemirror_mode": {
        "name": "ipython",
        "version": 3
      },
      "file_extension": ".py",
      "mimetype": "text/x-python",
      "name": "python",
      "nbconvert_exporter": "python",
      "pygments_lexer": "ipython3",
      "version": "3.12.5"
    }
  },
  "nbformat": 4,
  "nbformat_minor": 5
}
